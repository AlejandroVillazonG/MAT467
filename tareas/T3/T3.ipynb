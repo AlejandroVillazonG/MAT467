{
 "cells": [
  {
   "cell_type": "markdown",
   "metadata": {},
   "source": [
    "Librerías necesarias"
   ]
  },
  {
   "cell_type": "code",
   "execution_count": 1,
   "metadata": {},
   "outputs": [],
   "source": [
    "import pandas as pd\n",
    "import numpy as np\n",
    "# import matplotlib.pyplot as plt\n",
    "\n",
    "from sklearn.model_selection import KFold\n",
    "from scipy.spatial.distance import cdist\n",
    "import statsmodels.formula.api as smf\n",
    "from sklearn.neighbors import NearestNeighbors\n",
    "import statsmodels.api as sm\n",
    "\n",
    "from sklearn.metrics import root_mean_squared_error"
   ]
  },
  {
   "cell_type": "markdown",
   "metadata": {},
   "source": [
    "Funciones auxiliares"
   ]
  },
  {
   "cell_type": "code",
   "execution_count": 2,
   "metadata": {},
   "outputs": [],
   "source": [
    "class mean_KNN:\n",
    "    def __init__(self, K_0):\n",
    "        self.K_0 = K_0\n",
    "    \n",
    "    def fit(self, X, y):\n",
    "        self.X = X.reset_index(drop=True)\n",
    "        self.y = y.reset_index(drop=True)\n",
    "        \n",
    "        self.nbrs = NearestNeighbors(n_neighbors=self.K_0+1, algorithm='auto').fit(self.X)\n",
    "        XX = np.array([(1, self.y[row].mean()) for row in self.nbrs.kneighbors(self.X)[1][:,1:]])\n",
    "        self.model = sm.OLS(self.y, XX).fit()\n",
    "\n",
    "    def predict(self, X):\n",
    "        XX = np.array([(1, self.y[row].mean()) for row in self.nbrs.kneighbors(X)[1][:,:-1]])\n",
    "        return self.model.predict(XX)"
   ]
  },
  {
   "cell_type": "markdown",
   "metadata": {},
   "source": [
    "Importamos datos"
   ]
  },
  {
   "cell_type": "code",
   "execution_count": 3,
   "metadata": {},
   "outputs": [
    {
     "data": {
      "text/html": [
       "<div>\n",
       "<style scoped>\n",
       "    .dataframe tbody tr th:only-of-type {\n",
       "        vertical-align: middle;\n",
       "    }\n",
       "\n",
       "    .dataframe tbody tr th {\n",
       "        vertical-align: top;\n",
       "    }\n",
       "\n",
       "    .dataframe thead th {\n",
       "        text-align: right;\n",
       "    }\n",
       "</style>\n",
       "<table border=\"1\" class=\"dataframe\">\n",
       "  <thead>\n",
       "    <tr style=\"text-align: right;\">\n",
       "      <th></th>\n",
       "      <th>s_x</th>\n",
       "      <th>s_y</th>\n",
       "      <th>X</th>\n",
       "    </tr>\n",
       "  </thead>\n",
       "  <tbody>\n",
       "    <tr>\n",
       "      <th>0</th>\n",
       "      <td>-85.25</td>\n",
       "      <td>31.57</td>\n",
       "      <td>-0.458687</td>\n",
       "    </tr>\n",
       "    <tr>\n",
       "      <th>1</th>\n",
       "      <td>-87.42</td>\n",
       "      <td>32.23</td>\n",
       "      <td>-0.925328</td>\n",
       "    </tr>\n",
       "    <tr>\n",
       "      <th>2</th>\n",
       "      <td>-85.87</td>\n",
       "      <td>32.98</td>\n",
       "      <td>-0.437082</td>\n",
       "    </tr>\n",
       "    <tr>\n",
       "      <th>3</th>\n",
       "      <td>-88.13</td>\n",
       "      <td>33.13</td>\n",
       "      <td>-0.602672</td>\n",
       "    </tr>\n",
       "    <tr>\n",
       "      <th>4</th>\n",
       "      <td>-86.50</td>\n",
       "      <td>31.32</td>\n",
       "      <td>-0.351995</td>\n",
       "    </tr>\n",
       "  </tbody>\n",
       "</table>\n",
       "</div>"
      ],
      "text/plain": [
       "     s_x    s_y         X\n",
       "0 -85.25  31.57 -0.458687\n",
       "1 -87.42  32.23 -0.925328\n",
       "2 -85.87  32.98 -0.437082\n",
       "3 -88.13  33.13 -0.602672\n",
       "4 -86.50  31.32 -0.351995"
      ]
     },
     "execution_count": 3,
     "metadata": {},
     "output_type": "execute_result"
    }
   ],
   "source": [
    "path = 'https://raw.githubusercontent.com/AlejandroVillazonG/MAT467/main/tareas/T1/anomalies.txt'\n",
    "data = pd.read_csv(path, sep = '\\t')\n",
    "data.columns = ['s_x', 's_y', 'X']\n",
    "data.index -= 1\n",
    "data.head()"
   ]
  },
  {
   "cell_type": "markdown",
   "metadata": {},
   "source": [
    "Seleccionamos el mejor modelo mediante $K$-fold con $K=10$"
   ]
  },
  {
   "cell_type": "code",
   "execution_count": 4,
   "metadata": {},
   "outputs": [],
   "source": [
    "K = 10\n",
    "kf = KFold(n_splits=K, shuffle=True, random_state=42)\n",
    "\n",
    "formula_1 = 'X ~ s_x + s_y + np.power(s_x, 2) + np.power(s_y, 2) + s_x * s_y'\n",
    "K_0 = 10"
   ]
  },
  {
   "cell_type": "code",
   "execution_count": 5,
   "metadata": {},
   "outputs": [],
   "source": [
    "rmses_1 = []\n",
    "rmses_2 = []\n",
    "\n",
    "for train_index, test_index in kf.split(data):\n",
    "    train_data, test_data = data.iloc[train_index], data.iloc[test_index]\n",
    "\n",
    "    model_1 = smf.ols(formula=formula_1, data=train_data).fit()\n",
    "    y_pred_1 = model_1.predict(test_data)\n",
    "    rmses_1.append(root_mean_squared_error(y_pred_1, test_data['X']))\n",
    "\n",
    "    model_2 = mean_KNN(K_0 = K_0)\n",
    "    model_2.fit(train_data.drop('X', axis=1), train_data['X'])\n",
    "    y_pred_2 = model_2.predict(test_data.drop('X', axis=1))\n",
    "    rmses_2.append(root_mean_squared_error(y_pred_2, test_data['X']))"
   ]
  },
  {
   "cell_type": "code",
   "execution_count": 6,
   "metadata": {},
   "outputs": [
    {
     "name": "stdout",
     "output_type": "stream",
     "text": [
      "mean RMSE model1: 0.8408861201818741\n",
      "mean RMSE model2: 0.4974716615816866\n"
     ]
    }
   ],
   "source": [
    "mean_rmse_1 = np.mean(rmses_1)\n",
    "mean_rmse_2 = np.mean(rmses_2)\n",
    "print(\"mean RMSE model1:\", mean_rmse_1)\n",
    "print(\"mean RMSE model2:\", mean_rmse_2)"
   ]
  }
 ],
 "metadata": {
  "kernelspec": {
   "display_name": "Python 3",
   "language": "python",
   "name": "python3"
  },
  "language_info": {
   "codemirror_mode": {
    "name": "ipython",
    "version": 3
   },
   "file_extension": ".py",
   "mimetype": "text/x-python",
   "name": "python",
   "nbconvert_exporter": "python",
   "pygments_lexer": "ipython3",
   "version": "3.12.3"
  }
 },
 "nbformat": 4,
 "nbformat_minor": 2
}
